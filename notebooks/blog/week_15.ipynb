{
 "cells": [
  {
   "cell_type": "markdown",
   "id": "preceding-delhi",
   "metadata": {},
   "source": [
    "Week 15 (12.04.2021-18.04.2021)"
   ]
  },
  {
   "cell_type": "code",
   "execution_count": 1,
   "id": "b308bf9e-3e82-4fbe-81cb-c502dc740ae1",
   "metadata": {},
   "outputs": [],
   "source": [
    "from IPython.display import HTML\n",
    "from IPython.display import IFrame\n",
    "import sys\n",
    "sys.path.append('../../src')\n",
    "sys.path.append('../..')\n",
    "from src import astro_utils as asu"
   ]
  },
  {
   "cell_type": "markdown",
   "id": "36e18c93-3c59-460b-b152-9cb176981856",
   "metadata": {},
   "source": [
    "# NEWS"
   ]
  },
  {
   "cell_type": "markdown",
   "id": "4b26b88c-f97e-455d-95ea-bc2931a5c073",
   "metadata": {},
   "source": [
    "1. **[NASA Visualization Probes the Doubly Warped World of Binary Black Holes](https://svs.gsfc.nasa.gov/13831)**. NASA Goddard Media Studios released a few videos showing how might look a binary black hole system under gravitational lensing. \n",
    "![image.png](../../src/static/8k_Lensing_8k.png)\n",
    "\n",
    "[Video](https://www.youtube.com/embed/rQcKIN9vj3U) below (available as you are runnig jupyterlab)."
   ]
  },
  {
   "cell_type": "code",
   "execution_count": 2,
   "id": "9e2aeb1f-b0bf-4075-95ad-fef907168709",
   "metadata": {},
   "outputs": [
    {
     "data": {
      "text/html": [
       "\n",
       "        <iframe\n",
       "            width=\"500\"\n",
       "            height=\"300\"\n",
       "            src=\"https://www.youtube.com/embed/rQcKIN9vj3U\"\n",
       "            frameborder=\"0\"\n",
       "            allowfullscreen\n",
       "        ></iframe>\n",
       "        "
      ],
      "text/plain": [
       "<IPython.lib.display.IFrame at 0x7f3fac75b048>"
      ]
     },
     "execution_count": 2,
     "metadata": {},
     "output_type": "execute_result"
    }
   ],
   "source": [
    "IFrame(width=\"500\", height=\"300\", src=\"https://www.youtube.com/embed/rQcKIN9vj3U\")"
   ]
  },
  {
   "cell_type": "markdown",
   "id": "e4e3d676-dd51-4ce0-ad46-578605a42d65",
   "metadata": {},
   "source": [
    "2. **[Weight Banding](https://distill.pub/2020/circuits/weight-banding/)** - *This article is part of the Circuits thread, an experimental format collecting invited short articles and critical commentary delving into the inner workings of neural networks.* *Open up any ImageNet conv net and look at the weights in the last layer. You’ll find a uniform spatial pattern to them, dramatically unlike anything we see elsewhere in the network. No individual weight is unusual, but the uniformity is so striking that when we first discovered it we thought it must be a bug. Just as different biological tissue types jump out as distinct under a microscope, the weights in this final layer jump out as distinct when visualized with NMF. We call this phenomenon weight banding* \n",
    "<br/>\n",
    "\n",
    "![image.png |200x200 ](https://distill.pub/2020/circuits/weight-banding/thumbnail.jpg)\n",
    "\n",
    "3. **[Convolutional Neural Network in Astrophysics for identifying Gravitational Lenses](https://medium.com/compositeai/convolutional-neural-network-in-astrophysics-c4911b7d7c3d)** (https://github.com/Miladiouss/LensFlow) *A research group of Department of Physics and Astronomy, University of California Irvine developed a Deep Learning Framework LensFlow for identifying Strong Gravitational Lenses.*\n",
    "<br/> [github](https://github.com/Miladiouss/LensFlow)"
   ]
  },
  {
   "cell_type": "markdown",
   "id": "ec7e2e73-d5a6-4657-b8f1-6f5ba3f4b20f",
   "metadata": {},
   "source": [
    "# PRACTICE"
   ]
  },
  {
   "cell_type": "markdown",
   "id": "fb195de2-4aef-4f26-8d8d-b0935e207c0a",
   "metadata": {},
   "source": [
    "## Mass of an object"
   ]
  },
  {
   "cell_type": "markdown",
   "id": "ddf0cf5e-6f72-4e3c-8577-57c6c2b3f517",
   "metadata": {},
   "source": [
    "Mass could be estimated through \n",
    "* gravitational measured by satellite (f.e. [Gravity Probe B (GP-B) mission](https://en.wikipedia.org/wiki/Gravity_Probe_B) or [Juno (spacecraft)](https://en.wikipedia.org/wiki/Juno_(spacecraft)), which also measures Jupiters gravitation fields)\n",
    "* observing the properties of the orbit. F.e. total mass of planet and it's moon could be estimated by this formula:\n",
    "$$ M = \\frac{4\\pi^2}{G} \\frac{r^3}{T^2}$$\n",
    "where\n",
    "    * $G$ - Newtonian constant of gravitation\n",
    "    * $r$ - orbit radius\n",
    "    * $T$ - orbital period\n",
    "    \n",
    "    This formula derived from the 3rd Keplers and [Newton's gravity law](https://en.wikipedia.org/wiki/Newton%27s_law_of_universal_gravitation) ([link1](https://www.britannica.com/science/gravity-physics/Newtons-law-of-gravity), [link2](giss.nasa.gov/edu/nycri/units/pmarchase/1-mass_of_a_planet.pdf)). Also here in notebook: [derivation of a formula for mass of an object and its sattelite in classical mechanics](../themes/classical_mecanics.ipynb)\n",
    "    <br />\n",
    "    This estimation is inaccurate (due to classical mechanics and some assumtions), but may be sufficient. "
   ]
  },
  {
   "cell_type": "markdown",
   "id": "54c82371-7686-4b53-a51b-51a695224a11",
   "metadata": {},
   "source": [
    "## Computation"
   ]
  },
  {
   "cell_type": "markdown",
   "id": "ebf62cf4-bc62-43dd-9959-a6447b1d238a",
   "metadata": {},
   "source": [
    "Let's compute mass of Jupiter and use [Iо Statistics](https://solarviews.com/eng/io.htm)."
   ]
  },
  {
   "cell_type": "code",
   "execution_count": 3,
   "id": "d25f89f4-3f84-47ea-a8f4-ec22ccc25198",
   "metadata": {},
   "outputs": [
    {
     "name": "stdout",
     "output_type": "stream",
     "text": [
      "1.897164164865315e+27\n"
     ]
    }
   ],
   "source": [
    "r_io = 421600000 #in meters\n",
    "T_io = 1.769138 # in days\n",
    "T_io = T_io*24*60*60 # in seconds\n",
    "m_using_io = asu.compute_mass_classic_mechanics(r_io, T_io) # in kg\n",
    "print(m_using_io)"
   ]
  },
  {
   "cell_type": "markdown",
   "id": "68701571-7926-47a5-ba85-bc3de19563e3",
   "metadata": {},
   "source": [
    "Let's compute mass of Jupiter and use [Ganymede Statistics](https://solarviews.com/eng/ganymede.htm). "
   ]
  },
  {
   "cell_type": "code",
   "execution_count": 4,
   "id": "9bb63036-dbee-4862-b10b-ca5ee5577001",
   "metadata": {},
   "outputs": [
    {
     "name": "stdout",
     "output_type": "stream",
     "text": [
      "1.896325349961314e+27\n"
     ]
    }
   ],
   "source": [
    "r_ganymede = 1070000000 #in meters\n",
    "T_ganymede = 7.154553 # in days\n",
    "T_ganymede = T_ganymede*24*60*60 # in seconds\n",
    "m_using_ganymede = asu.compute_mass_classic_mechanics(r_ganymede, T_ganymede) # in kg\n",
    "print(m_using_ganymede)"
   ]
  },
  {
   "cell_type": "markdown",
   "id": "4b58f5bb-df83-4d2d-9079-a3a070029915",
   "metadata": {},
   "source": [
    "Comparing to real data for [Jupiter](https://nssdc.gsfc.nasa.gov/planetary/factsheet/jupiterfact.html)"
   ]
  },
  {
   "cell_type": "code",
   "execution_count": 5,
   "id": "aa684eb3-d18b-4935-83ce-4aad12385903",
   "metadata": {
    "tags": []
   },
   "outputs": [
    {
     "name": "stdout",
     "output_type": "stream",
     "text": [
      "1.0258351346849717e+24\n",
      "1.864650038686162e+24\n"
     ]
    }
   ],
   "source": [
    "real_mass = 1898.19*10**24\n",
    "error_io = real_mass-m_using_io\n",
    "error_ganymede = real_mass-m_using_ganymede\n",
    "print(error_io)\n",
    "print(error_ganymede)"
   ]
  },
  {
   "cell_type": "markdown",
   "id": "76d9b943-45eb-4d0c-88f9-c34b92ec5a4f",
   "metadata": {},
   "source": [
    "# References"
   ]
  },
  {
   "cell_type": "markdown",
   "id": "f99ed7b5-4a4b-4bb4-837b-dea1ac341e60",
   "metadata": {},
   "source": [
    "* News\n",
    "    * [NASA Visualization Probes the Doubly Warped World of Binary Black Holes](https://svs.gsfc.nasa.gov/13831)\n",
    "    * [Weight Banding](https://distill.pub/2020/circuits/weight-banding/)\n",
    "    * [Convolutional Neural Network in Astrophysics for identifying Gravitational Lenses](https://medium.com/compositeai/convolutional-neural-network-in-astrophysics-c4911b7d7c3d)\n",
    "* [derivation of a formula for mass of an object and its sattelite in classical mechanics](../notes/classical_mecanics.ipynb)\n",
    "* [Brittanica Newtons-law-of-gravity](https://www.britannica.com/science/gravity-physics/Newtons-law-of-gravity)\n",
    "* [Nasa mass of a planet](giss.nasa.gov/edu/nycri/units/pmarchase/1-mass_of_a_planet.pdf)\n",
    "* Wikipedia common information:\n",
    "    * [Gravity Probe B (GP-B) mission](https://en.wikipedia.org/wiki/Gravity_Probe_B)\n",
    "    * [Juno (spacecraft)](https://en.wikipedia.org/wiki/Juno_(spacecraft))\n",
    "    * [Newton's gravity law](https://en.wikipedia.org/wiki/Newton%27s_law_of_universal_gravitation) \n",
    "* planets and moons:\n",
    "    * [Iо Statistics](https://solarviews.com/eng/io.htm)\n",
    "    * [Ganymede Statistics](https://solarviews.com/eng/ganymede.htm). \n",
    "    * [Jupiter](https://nssdc.gsfc.nasa.gov/planetary/factsheet/jupiterfact.html)\n",
    "* Misc\n",
    "    * https://youtu.be/rJVkunZWkIQ - on Russian great video"
   ]
  },
  {
   "cell_type": "code",
   "execution_count": null,
   "id": "366395a2-4bc5-4b31-a2b9-f9089020b824",
   "metadata": {},
   "outputs": [],
   "source": []
  }
 ],
 "metadata": {
  "kernelspec": {
   "display_name": "Python 3",
   "language": "python",
   "name": "python3"
  },
  "language_info": {
   "codemirror_mode": {
    "name": "ipython",
    "version": 3
   },
   "file_extension": ".py",
   "mimetype": "text/x-python",
   "name": "python",
   "nbconvert_exporter": "python",
   "pygments_lexer": "ipython3",
   "version": "3.6.9"
  },
  "toc-autonumbering": true
 },
 "nbformat": 4,
 "nbformat_minor": 5
}
