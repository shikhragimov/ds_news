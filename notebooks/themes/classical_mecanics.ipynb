{
 "cells": [
  {
   "cell_type": "markdown",
   "id": "60e2d31d-8f89-46b5-8a01-4ceaade9f412",
   "metadata": {},
   "source": [
    "# derivation of a formula for mass of an object and its sattelite in classical mechanics"
   ]
  },
  {
   "cell_type": "markdown",
   "id": "146edfb2-182e-4ba6-bd62-19c13e315d8a",
   "metadata": {},
   "source": [
    "1. Newton's law of universal gravitation. Every point mass attracts every single other point mass by a force acting along the line intersecting both points. The force is proportional to the product of the two masses and inversely proportional to the square of the distance between them <br/> \n",
    "$$F=G\\frac{m_1m_2}{r^2}$$\n",
    "<br/> where:\n",
    "    * $F$ is the force between the masses;\n",
    "    * $G$ is the gravitational constant;\n",
    "    * $m_1$ is the first mass;\n",
    "    * $m_2$ is the second mass;\n",
    "    * $r is$ the distance between the centers of the masses.\n",
    "2. The gravitaion between planet and star, or moon and planet is centripetal force and is <br/> \n",
    "$$F=G\\frac{m_2*\\nu^2}{r}$$\n",
    "<br/> where:\n",
    "    * $\\nu^2$ is the velocity of sattelite\n",
    "3. with sime assumptions we could say <br/>\n",
    "$$F=G\\frac{m_1m_2}{r^2} =\\frac{m_2\\nu^2}{r}$$\n",
    "<br/>\n",
    "$$G\\frac{m_1}{r^2} =\\frac{\\nu^2}{r}$$\n",
    "4. we know that velocity is distфnce divided by time. <br/>\n",
    "$$\\nu=\\frac{2\\pi r}{T}$$\n",
    "<br/> where:\n",
    "    * $2\\pi r$ - is distance - the whole circlel;\n",
    "    * T - is the period of rotation;\n",
    "5. putting 4 in 3<br/>\n",
    "$$G\\frac{m_1}{r^2} = \\frac{(\\frac{2\\pi r}{T})^2}{r}$$ <br/>\n",
    "$$m_1 = \\frac{4\\pi^2}{G} \\frac{r^3}{T^2}$$\n",
    "6. Note that if the $m_2$ is not negligible compared to $m_2$, two objects circle around the center of mass and the one should consider this formula\n",
    "<br/>\n",
    "$$(m_1+m_2) = \\frac{4\\pi^2}{G} \\frac{r^3}{T^2}$$\n"
   ]
  },
  {
   "cell_type": "code",
   "execution_count": null,
   "id": "3d5247df-e098-4608-bca9-ceb83ec6f6f9",
   "metadata": {},
   "outputs": [],
   "source": []
  }
 ],
 "metadata": {
  "kernelspec": {
   "display_name": "Python 3",
   "language": "python",
   "name": "python3"
  },
  "language_info": {
   "codemirror_mode": {
    "name": "ipython",
    "version": 3
   },
   "file_extension": ".py",
   "mimetype": "text/x-python",
   "name": "python",
   "nbconvert_exporter": "python",
   "pygments_lexer": "ipython3",
   "version": "3.6.9"
  }
 },
 "nbformat": 4,
 "nbformat_minor": 5
}
